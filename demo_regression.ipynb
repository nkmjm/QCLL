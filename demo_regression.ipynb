{
 "cells": [
  {
   "cell_type": "code",
   "execution_count": null,
   "metadata": {},
   "outputs": [],
   "source": [
    "import numpy as np\n",
    "%matplotlib inline\n",
    "import matplotlib.pyplot as plt\n",
    "\n",
    "import QCLL\n",
    "import makeData"
   ]
  },
  {
   "cell_type": "code",
   "execution_count": null,
   "metadata": {},
   "outputs": [],
   "source": [
    "# SET PARAMETERS ::::::::::\n",
    "\n",
    "inType = 'x2'  # 'x2' 'e_x' 'sin_x' 'abs_x'\n",
    "equalInterval = False  # True or False\n",
    "withNoise = True  # True or False\n",
    "noiseScalse = 0.05  # level of noise (SD of gaussian)\n",
    "nSample = 100\n",
    "nQbits = 6  # the number of qubits\n",
    "nParams = 36  # the number of parameter theta\n",
    "d = 100  # the number of dimensions for low dimensional side of count sketch matrix\n",
    "nOut = 5  # the number of the dimensions of the output vectors\n",
    "\n",
    "# SET PARAMETERS ::::::::::"
   ]
  },
  {
   "cell_type": "code",
   "execution_count": null,
   "metadata": {},
   "outputs": [],
   "source": [
    "###\n",
    "### Main\n",
    "\n",
    "# Make input data: inDT\n",
    "inDT, ys, nSample = makeData.makeInDT_regression(inType, nQbits, nSample, withNoise, noiseScalse, equalInterval) # funcType: 'x2', 'e_x', 'sin_x', 'abs_x'\n",
    "nQbits = inDT.shape[1] # reset nQbits\n",
    "\n",
    "# Perform QCLL for regression\n",
    "F = QCLL.regression(nQbits, nParams, d, nOut)\n",
    "F.fit(inDT, ys)\n",
    "\n",
    "# predicted y and loss: initial\n",
    "init_prd_ys = F.predict(inDT, 'init')\n",
    "init_loss = F.loss(inDT, ys, 'init')\n",
    "print('Before optimization: init loss is {:.4f}'.format(init_loss))\n",
    "\n",
    "# predicted y and loss: final (=optimized)\n",
    "prd_ys = F.predict(inDT, 'opt')\n",
    "loss_opt = F.loss(inDT, ys, 'opt')\n",
    "print('After optimization: loss is {:.4f}'.format(loss_opt))\n",
    "\n",
    "    \n",
    "###\n",
    "### Show figure\n",
    "\n",
    "# Set plot items\n",
    "org_x = inDT.transpose()[0]\n",
    "sid = np.argsort(org_x)\n",
    "\n",
    "# Make fig items for new input data\n",
    "inDT_plot, _, _ = makeData.makeInDT_regression('x_plot', nQbits, nSample)\n",
    "prd_ys_plot = F.predict(inDT_plot, 'opt') # prediction using optimized param\n",
    "init_prd_ys_plot = F.predict(inDT_plot, 'init') # prediction using initial param\n",
    "\n",
    "x_plot = inDT_plot.transpose()[0]\n",
    "\n",
    "# plot\n",
    "plt.figure(figsize=(5,5))\n",
    "plt.plot(x_plot, prd_ys_plot, label='opt', linestyle='solid', color='coral')\n",
    "plt.scatter(org_x[sid], ys[sid], s=10, marker='o', label='ys', color='teal')\n",
    "plt.plot(x_plot, init_prd_ys_plot, label='init', linestyle='dashed', color='coral')\n",
    "plt.legend()\n",
    "plt.show()\n"
   ]
  }
 ],
 "metadata": {
  "kernelspec": {
   "display_name": "Python 3",
   "language": "python",
   "name": "python3"
  },
  "language_info": {
   "codemirror_mode": {
    "name": "ipython",
    "version": 3
   },
   "file_extension": ".py",
   "mimetype": "text/x-python",
   "name": "python",
   "nbconvert_exporter": "python",
   "pygments_lexer": "ipython3",
   "version": "3.7.4"
  }
 },
 "nbformat": 4,
 "nbformat_minor": 2
}
