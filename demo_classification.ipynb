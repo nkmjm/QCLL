{
 "cells": [
  {
   "cell_type": "code",
   "execution_count": null,
   "metadata": {},
   "outputs": [],
   "source": [
    "import numpy as np\n",
    "import numpy.matlib\n",
    "%matplotlib inline\n",
    "import matplotlib.pyplot as plt\n",
    "\n",
    "import QCLL\n",
    "import makeData"
   ]
  },
  {
   "cell_type": "code",
   "execution_count": null,
   "metadata": {},
   "outputs": [],
   "source": [
    "# SET PARAMETER ::::::::::\n",
    "\n",
    "nSample = 100\n",
    "nQbits = 3  # the number of qubits\n",
    "nParams = 18  # the number of parameter theta (18)\n",
    "d = 100  # the number of dimensions for low dimensional side of count sketch matrix\n",
    "nOut = 5  # the number of the dimensions of the output vectors\n",
    "\n",
    "# SET PARAMETER ::::::::::"
   ]
  },
  {
   "cell_type": "code",
   "execution_count": null,
   "metadata": {},
   "outputs": [],
   "source": [
    "###\n",
    "### Main\n",
    "\n",
    "\n",
    "# Make input data: inDT\n",
    "x0, x1 = makeData.makeInDT_classification(nSample)\n",
    "inDT, ys = makeData.copyInDT_classification(x0, x1, nQbits)\n",
    "\n",
    "# Perform QCLL for classification\n",
    "F = QCLL.classification(nQbits, nParams, d, nOut)\n",
    "F.fit(inDT, ys)\n",
    "\n",
    "# loss: initial\n",
    "init_loss = F.loss(inDT, ys, 'init')\n",
    "print('Before optimization: init loss is {:.4f}'.format(init_loss))\n",
    "\n",
    "# loss: final (= optimized)\n",
    "loss = F.loss(inDT, ys, 'opt')\n",
    "print('After optiization: loss is '.format(loss))\n",
    "\n",
    "\n",
    "###\n",
    "### Show figure\n",
    "\n",
    "# (teature)\n",
    "color = np.dot([0, 1], ys.transpose())\n",
    "orgX = np.concatenate([x0, x1], axis=0)\n",
    "# Plot\n",
    "fig = plt.figure(figsize=(7,5))\n",
    "im = plt.scatter(orgX[:,0], orgX[:,1], s=20, c=color, cmap = 'coolwarm')\n",
    "fig.colorbar(im)\n",
    "plt.axis('equal')\n",
    "plt.ylim([-1, 1])\n",
    "plt.xlim([-1, 1])\n",
    "plt.show()\n",
    "\n",
    "## (prediction)\n",
    "# Make fig items for new input data\n",
    "X_grid = makeData.makeInDT_grid()\n",
    "inDT_grid = numpy.matlib.repmat(X_grid, 1, nQbits) # copy InDT\n",
    "prob_grid = F.probability(inDT_grid, 'opt') # using optimized param\n",
    "prob_grid = np.array(prob_grid)\n",
    "color = np.dot([0, 1], prob_grid.transpose())\n",
    "# Plot\n",
    "fig = plt.figure(figsize=(7,5))\n",
    "im = plt.scatter(X_grid[:,0], X_grid[:,1], s=20, c=color, cmap = 'coolwarm')\n",
    "fig.colorbar(im)\n",
    "plt.axis('equal')\n",
    "plt.ylim([-1, 1])\n",
    "plt.xlim([-1, 1])\n",
    "plt.show()\n"
   ]
  }
 ],
 "metadata": {
  "kernelspec": {
   "display_name": "Python 3",
   "language": "python",
   "name": "python3"
  },
  "language_info": {
   "codemirror_mode": {
    "name": "ipython",
    "version": 3
   },
   "file_extension": ".py",
   "mimetype": "text/x-python",
   "name": "python",
   "nbconvert_exporter": "python",
   "pygments_lexer": "ipython3",
   "version": "3.7.4"
  }
 },
 "nbformat": 4,
 "nbformat_minor": 2
}
